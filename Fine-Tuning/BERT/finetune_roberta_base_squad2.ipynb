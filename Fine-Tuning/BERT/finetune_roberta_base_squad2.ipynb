{
  "cells": [
    {
      "cell_type": "markdown",
      "id": "7a2e47ce",
      "metadata": {
        "id": "7a2e47ce"
      },
      "source": [
        "# **Fine-Tuning BERT model**"
      ]
    },
    {
      "cell_type": "markdown",
      "id": "5953dbf6",
      "metadata": {
        "id": "5953dbf6"
      },
      "source": [
        "### Import all the necessary libraries"
      ]
    },
    {
      "cell_type": "code",
      "execution_count": null,
      "id": "afb7da3b",
      "metadata": {
        "id": "afb7da3b"
      },
      "outputs": [],
      "source": [
        "import os\n",
        "import numpy as np\n",
        "import collections\n",
        "import matplotlib.pyplot as plt\n",
        "from tqdm import tqdm, tqdm_notebook\n",
        "from datasets import load_from_disk, load_dataset, load_metric\n",
        "from transformers import AutoTokenizer,default_data_collator, AutoModelForQuestionAnswering, TrainingArguments, Trainer, pipeline"
      ]
    },
    {
      "cell_type": "markdown",
      "id": "9c3c4af6",
      "metadata": {
        "id": "9c3c4af6"
      },
      "source": [
        "### Importing the legal contract dataset from huggingface"
      ]
    },
    {
      "cell_type": "code",
      "execution_count": null,
      "id": "d60f5289-093b-41f5-9262-8948dc62b7f7",
      "metadata": {
        "id": "d60f5289-093b-41f5-9262-8948dc62b7f7",
        "outputId": "f37d1181-8125-4495-ea51-7272aa8df99d"
      },
      "outputs": [
        {
          "name": "stdout",
          "output_type": "stream",
          "text": [
            "DatasetDict({\n",
            "    train: Dataset({\n",
            "        features: ['id', 'title', 'context', 'question', 'answers'],\n",
            "        num_rows: 22450\n",
            "    })\n",
            "    test: Dataset({\n",
            "        features: ['id', 'title', 'context', 'question', 'answers'],\n",
            "        num_rows: 4182\n",
            "    })\n",
            "})\n"
          ]
        }
      ],
      "source": [
        "# Load the CUAD dataset\n",
        "dataset = load_dataset(\"theatticusproject/cuad-qa\")\n",
        "print(dataset)"
      ]
    },
    {
      "cell_type": "markdown",
      "id": "5909ec27",
      "metadata": {
        "id": "5909ec27"
      },
      "source": [
        "### Loading our RoBERTa BERT based variant model and the tokenizer"
      ]
    },
    {
      "cell_type": "code",
      "execution_count": null,
      "id": "6f9f277a-09fe-4977-9b93-62a00d1a2c81",
      "metadata": {
        "id": "6f9f277a-09fe-4977-9b93-62a00d1a2c81"
      },
      "outputs": [],
      "source": [
        "model_name = \"deepset/roberta-base-squad2\"\n",
        "\n",
        "# deepset/bert-large-uncased-whole-word-masking-squad2\n",
        "# Rakib/roberta-base-on-cuad\n",
        "\n",
        "# Load the tokenizer\n",
        "tokenizer = AutoTokenizer.from_pretrained(model_name)\n",
        "model = AutoModelForQuestionAnswering.from_pretrained(model_name).to(\"cuda\")"
      ]
    },
    {
      "cell_type": "markdown",
      "id": "fa1a6316",
      "metadata": {
        "id": "fa1a6316"
      },
      "source": [
        "Preprocessing the dataset to remove noise and make it ready for fine tuning the bert model"
      ]
    },
    {
      "cell_type": "code",
      "execution_count": null,
      "id": "e5e140e3-4629-42dc-9257-be2c4e68d693",
      "metadata": {
        "id": "e5e140e3-4629-42dc-9257-be2c4e68d693",
        "outputId": "4bd1d7bf-e5b8-4cdf-8b97-1efbf94b5157"
      },
      "outputs": [
        {
          "name": "stderr",
          "output_type": "stream",
          "text": [
            "Map: 100%|██████████| 11180/11180 [00:03<00:00, 3513.56 examples/s]\n",
            "Map: 100%|██████████| 1244/1244 [00:00<00:00, 4351.03 examples/s]\n",
            "Filter: 100%|██████████| 11180/11180 [00:00<00:00, 12260.38 examples/s]\n",
            "Filter: 100%|██████████| 1244/1244 [00:00<00:00, 15198.75 examples/s]"
          ]
        },
        {
          "name": "stdout",
          "output_type": "stream",
          "text": [
            "DatasetDict({\n",
            "    train: Dataset({\n",
            "        features: ['id', 'title', 'context', 'question', 'answers'],\n",
            "        num_rows: 11180\n",
            "    })\n",
            "    test: Dataset({\n",
            "        features: ['id', 'title', 'context', 'question', 'answers'],\n",
            "        num_rows: 1244\n",
            "    })\n",
            "})\n"
          ]
        },
        {
          "name": "stderr",
          "output_type": "stream",
          "text": [
            "\n"
          ]
        }
      ],
      "source": [
        "def extract_relevant_question(sample):\n",
        "    # Find the index of the \"Details: \" substring\n",
        "    details_index = sample['question'].find(\"Details: \")\n",
        "\n",
        "    # Extract the substring starting from the index after \"Details: \"\n",
        "    sample['question'] = sample['question'][details_index + len(\"Details: \"):].strip()\n",
        "\n",
        "    return sample\n",
        "\n",
        "# Apply the function to each sample in the dataset\n",
        "dataset = dataset.map(extract_relevant_question)\n",
        "dataset = dataset.filter(lambda x: len(x['answers'][\"text\"])!= 0)\n",
        "print(dataset)"
      ]
    },
    {
      "cell_type": "code",
      "execution_count": null,
      "id": "2ac3d633-d04b-47e7-9e5b-3fe09e65f246",
      "metadata": {
        "colab": {
          "referenced_widgets": [
            "d1308c7efefa444792a8e1e33a91cc53",
            "2f72fc032b37446bbd9e885bddab5def"
          ]
        },
        "id": "2ac3d633-d04b-47e7-9e5b-3fe09e65f246",
        "outputId": "cf6fbb35-abb2-478b-bf7f-882849ca9861"
      },
      "outputs": [
        {
          "data": {
            "application/vnd.jupyter.widget-view+json": {
              "model_id": "d1308c7efefa444792a8e1e33a91cc53",
              "version_major": 2,
              "version_minor": 0
            },
            "text/plain": [
              "Saving the dataset (0/2 shards):   0%|          | 0/11180 [00:00<?, ? examples/s]"
            ]
          },
          "metadata": {},
          "output_type": "display_data"
        },
        {
          "data": {
            "application/vnd.jupyter.widget-view+json": {
              "model_id": "2f72fc032b37446bbd9e885bddab5def",
              "version_major": 2,
              "version_minor": 0
            },
            "text/plain": [
              "Saving the dataset (0/1 shards):   0%|          | 0/1244 [00:00<?, ? examples/s]"
            ]
          },
          "metadata": {},
          "output_type": "display_data"
        }
      ],
      "source": [
        "os.makedirs(\"filtered-dataset\", exist_ok=True)\n",
        "dataset.save_to_disk(\"filtered-dataset\")"
      ]
    },
    {
      "cell_type": "code",
      "execution_count": null,
      "id": "fb91caf8-6c72-4ae3-bee7-54bbf974b9d8",
      "metadata": {
        "id": "fb91caf8-6c72-4ae3-bee7-54bbf974b9d8",
        "outputId": "ec6c2597-4e15-4663-9487-ad35bc0e58cc"
      },
      "outputs": [
        {
          "name": "stdout",
          "output_type": "stream",
          "text": [
            "DatasetDict({\n",
            "    train: Dataset({\n",
            "        features: ['id', 'title', 'context', 'question', 'answers'],\n",
            "        num_rows: 11180\n",
            "    })\n",
            "    test: Dataset({\n",
            "        features: ['id', 'title', 'context', 'question', 'answers'],\n",
            "        num_rows: 1244\n",
            "    })\n",
            "})\n"
          ]
        }
      ],
      "source": [
        "# dataset = load_from_disk(\"./filtered-dataset\")\n",
        "print(dataset)"
      ]
    },
    {
      "cell_type": "markdown",
      "id": "39a9564c",
      "metadata": {
        "id": "39a9564c"
      },
      "source": [
        "## Analysing the context length in our dataset"
      ]
    },
    {
      "cell_type": "code",
      "execution_count": null,
      "id": "73c5e41d",
      "metadata": {
        "id": "73c5e41d",
        "outputId": "753ea67e-e7e9-49d5-8a5c-317380299dec"
      },
      "outputs": [
        {
          "data": {
            "image/png": "[encoded data removed]",
            "text/plain": [
              "<Figure size 1000x600 with 1 Axes>"
            ]
          },
          "metadata": {},
          "output_type": "display_data"
        },
        {
          "name": "stdout",
          "output_type": "stream",
          "text": [
            "Minimum context length: 170 words\n",
            "Maximum context length: 45650 words\n",
            "Average context length: 12271.25 words\n"
          ]
        }
      ],
      "source": [
        "context_lengths = [len(example['context'].split()) for example in dataset[\"train\"]]\n",
        "\n",
        "# Create the histogram\n",
        "plt.figure(figsize=(10, 6))\n",
        "plt.hist(context_lengths, bins=30, edgecolor='k')\n",
        "plt.title(\"Context Length Histogram\")\n",
        "plt.xlabel(\"Context Length (words)\")\n",
        "plt.ylabel(\"Frequency\")\n",
        "# plt.grid(True)\n",
        "\n",
        "\n",
        "# Show the plot\n",
        "plt.show()\n",
        "\n",
        "# Print some statistics\n",
        "print(f\"Minimum context length: {min(context_lengths)} words\")\n",
        "print(f\"Maximum context length: {max(context_lengths)} words\")\n",
        "print(f\"Average context length: {sum(context_lengths) / len(context_lengths):.2f} words\")"
      ]
    },
    {
      "cell_type": "markdown",
      "id": "066f3021",
      "metadata": {
        "id": "066f3021"
      },
      "source": [
        "## Tokenizing our dataset so that BERT can understand it."
      ]
    },
    {
      "cell_type": "code",
      "execution_count": null,
      "id": "e5d29c6f-6da5-4374-b48d-3580fb9f2aaa",
      "metadata": {
        "id": "e5d29c6f-6da5-4374-b48d-3580fb9f2aaa"
      },
      "outputs": [],
      "source": [
        "def preprocess_train_features(examples):\n",
        "    tokenized_examples = tokenizer(\n",
        "        examples[\"question\"],\n",
        "        examples[\"context\"],\n",
        "        max_length=384,\n",
        "        truncation=\"only_second\",\n",
        "        return_overflowing_tokens=True,\n",
        "        stride=128,\n",
        "        return_offsets_mapping=True,\n",
        "        padding=\"max_length\",\n",
        "    )\n",
        "\n",
        "    sample_mapping = tokenized_examples.pop(\"overflow_to_sample_mapping\")\n",
        "\n",
        "    offset_mapping = tokenized_examples.pop(\"offset_mapping\")\n",
        "\n",
        "    tokenized_examples[\"start_positions\"] = []\n",
        "    tokenized_examples[\"end_positions\"] = []\n",
        "\n",
        "    for i, offsets in enumerate(offset_mapping):\n",
        "\n",
        "        input_ids = tokenized_examples[\"input_ids\"][i]\n",
        "        cls_index = input_ids.index(tokenizer.cls_token_id)\n",
        "\n",
        "        sequence_ids = tokenized_examples.sequence_ids(i)\n",
        "\n",
        "        sample_index = sample_mapping[i]\n",
        "        answers = examples[\"answers\"][sample_index]\n",
        "\n",
        "        start_char = answers[\"answer_start\"][0]\n",
        "        end_char = start_char + len(answers[\"text\"][0])\n",
        "\n",
        "        token_start_index = 0\n",
        "        while sequence_ids[token_start_index] != 1:\n",
        "            token_start_index += 1\n",
        "\n",
        "        token_end_index = len(input_ids) - 1\n",
        "        while sequence_ids[token_end_index] != 1:\n",
        "            token_end_index -= 1\n",
        "\n",
        "        if not (offsets[token_start_index][0] <= start_char and offsets[token_end_index][1] >= end_char):\n",
        "            tokenized_examples[\"start_positions\"].append(cls_index)\n",
        "            tokenized_examples[\"end_positions\"].append(cls_index)\n",
        "        else:\n",
        "            while token_start_index < len(offsets) and offsets[token_start_index][0] <= start_char:\n",
        "                token_start_index += 1\n",
        "            tokenized_examples[\"start_positions\"].append(token_start_index - 1)\n",
        "            while offsets[token_end_index][1] >= end_char:\n",
        "                token_end_index -= 1\n",
        "            tokenized_examples[\"end_positions\"].append(token_end_index + 1)\n",
        "\n",
        "    return tokenized_examples\n",
        "\n",
        "# Tokenization\n",
        "train_tokenized_data = dataset[\"train\"].map(preprocess_train_features, num_proc=12, batched=True, remove_columns=dataset[\"train\"].column_names)"
      ]
    },
    {
      "cell_type": "code",
      "execution_count": null,
      "id": "0a96dcb8",
      "metadata": {
        "id": "0a96dcb8",
        "outputId": "46a90e4e-f001-410d-f241-1a5b83987d0d"
      },
      "outputs": [
        {
          "name": "stdout",
          "output_type": "stream",
          "text": [
            "Dataset({\n",
            "    features: ['input_ids', 'attention_mask', 'start_positions', 'end_positions'],\n",
            "    num_rows: 1000229\n",
            "})\n"
          ]
        }
      ],
      "source": [
        "print(train_tokenized_data)"
      ]
    },
    {
      "cell_type": "code",
      "execution_count": null,
      "id": "d89fd91c",
      "metadata": {
        "id": "d89fd91c",
        "outputId": "04181833-ae51-4d4c-e715-14fc6d53ab3e"
      },
      "outputs": [
        {
          "name": "stderr",
          "output_type": "stream",
          "text": [
            "Map (num_proc=8): 100%|██████████| 1244/1244 [00:16<00:00, 74.51 examples/s] \n"
          ]
        }
      ],
      "source": [
        "def prepare_test_features(examples):\n",
        "    tokenized_examples = tokenizer(\n",
        "        examples[\"question\"],\n",
        "        examples[\"context\"],\n",
        "        max_length=384,\n",
        "        truncation=\"only_second\",\n",
        "        return_overflowing_tokens=True,\n",
        "        stride=128,\n",
        "        return_offsets_mapping=True,\n",
        "        padding=\"max_length\",\n",
        "    )\n",
        "\n",
        "    sample_mapping = tokenized_examples.pop(\"overflow_to_sample_mapping\")\n",
        "    offset_mapping = tokenized_examples[\"offset_mapping\"]\n",
        "\n",
        "    tokenized_examples[\"start_positions\"] = []\n",
        "    tokenized_examples[\"end_positions\"] = []\n",
        "\n",
        "    for i, offsets in enumerate(offset_mapping):\n",
        "        input_ids = tokenized_examples[\"input_ids\"][i]\n",
        "        cls_index = input_ids.index(tokenizer.cls_token_id)\n",
        "\n",
        "        sequence_ids = tokenized_examples.sequence_ids(i)\n",
        "\n",
        "        sample_index = sample_mapping[i]\n",
        "        answers = examples[\"answers\"][sample_index]\n",
        "\n",
        "        start_char = answers[\"answer_start\"][0]\n",
        "        end_char = start_char + len(answers[\"text\"][0])\n",
        "\n",
        "        token_start_index = 0\n",
        "        while sequence_ids[token_start_index] != 1:\n",
        "            token_start_index += 1\n",
        "\n",
        "        token_end_index = len(input_ids) - 1\n",
        "        while sequence_ids[token_end_index] != 1:\n",
        "            token_end_index -= 1\n",
        "\n",
        "        if not (offsets[token_start_index][0] <= start_char and offsets[token_end_index][1] >= end_char):\n",
        "            tokenized_examples[\"start_positions\"].append(cls_index)\n",
        "            tokenized_examples[\"end_positions\"].append(cls_index)\n",
        "        else:\n",
        "            while token_start_index < len(offsets) and offsets[token_start_index][0] <= start_char:\n",
        "                token_start_index += 1\n",
        "            tokenized_examples[\"start_positions\"].append(token_start_index - 1)\n",
        "            while offsets[token_end_index][1] >= end_char:\n",
        "                token_end_index -= 1\n",
        "            tokenized_examples[\"end_positions\"].append(token_end_index + 1)\n",
        "\n",
        "\n",
        "    tokenized_examples[\"example_id\"] = []\n",
        "\n",
        "    for i in range(len(tokenized_examples[\"input_ids\"])):\n",
        "        sequence_ids = tokenized_examples.sequence_ids(i)\n",
        "        context_index = 1\n",
        "\n",
        "        sample_index = sample_mapping[i]\n",
        "        tokenized_examples[\"example_id\"].append(examples[\"id\"][sample_index])\n",
        "        tokenized_examples[\"offset_mapping\"][i] = [\n",
        "            (o if sequence_ids[k] == context_index else None)\n",
        "            for k, o in enumerate(tokenized_examples[\"offset_mapping\"][i])\n",
        "        ]\n",
        "\n",
        "    return tokenized_examples\n",
        "\n",
        "test_tokenized_data = dataset['test'].map(prepare_test_features,num_proc=8, batched=True, remove_columns=dataset[\"test\"].column_names)"
      ]
    },
    {
      "cell_type": "code",
      "execution_count": null,
      "id": "9ab54d07",
      "metadata": {
        "id": "9ab54d07",
        "outputId": "80d73ec5-b55f-44b3-e70f-229aa2cad097"
      },
      "outputs": [
        {
          "name": "stdout",
          "output_type": "stream",
          "text": [
            "Dataset({\n",
            "    features: ['input_ids', 'attention_mask', 'offset_mapping', 'start_positions', 'end_positions', 'example_id'],\n",
            "    num_rows: 83005\n",
            "})\n"
          ]
        }
      ],
      "source": [
        "print(test_tokenized_data)"
      ]
    },
    {
      "cell_type": "markdown",
      "id": "02dc32f8",
      "metadata": {
        "id": "02dc32f8"
      },
      "source": [
        "# Training the BERT model on the tokenized dataset and specific training arguments"
      ]
    },
    {
      "cell_type": "code",
      "execution_count": null,
      "id": "64e73309-b819-47c4-85a3-a9e6a11e1977",
      "metadata": {
        "id": "64e73309-b819-47c4-85a3-a9e6a11e1977",
        "outputId": "b7c86a0d-2cf3-4990-b701-7c41568fc029"
      },
      "outputs": [
        {
          "name": "stderr",
          "output_type": "stream",
          "text": [
            "Detected kernel version 3.10.0, which is below the recommended minimum of 5.5.0; this can cause the process to hang. It is recommended to upgrade the kernel to the minimum version or higher.\n"
          ]
        },
        {
          "data": {
            "text/html": [
              "\n",
              "    <div>\n",
              "      \n",
              "      <progress value='31258' max='31258' style='width:300px; height:20px; vertical-align: middle;'></progress>\n",
              "      [31258/31258 31:24, Epoch 1/1]\n",
              "    </div>\n",
              "    <table border=\"1\" class=\"dataframe\">\n",
              "  <thead>\n",
              " <tr style=\"text-align: left;\">\n",
              "      <th>Epoch</th>\n",
              "      <th>Training Loss</th>\n",
              "      <th>Validation Loss</th>\n",
              "    </tr>\n",
              "  </thead>\n",
              "  <tbody>\n",
              "    <tr>\n",
              "      <td>1</td>\n",
              "      <td>0.043100</td>\n",
              "      <td>0.053207</td>\n",
              "    </tr>\n",
              "  </tbody>\n",
              "</table><p>"
            ],
            "text/plain": [
              "<IPython.core.display.HTML object>"
            ]
          },
          "metadata": {},
          "output_type": "display_data"
        },
        {
          "data": {
            "text/plain": [
              "TrainOutput(global_step=31258, training_loss=0.0043619934981215126, metrics={'train_runtime': 1888.831, 'train_samples_per_second': 529.549, 'train_steps_per_second': 16.549, 'total_flos': 1.960174452699694e+17, 'train_loss': 0.0043619934981215126, 'epoch': 1.0})"
            ]
          },
          "execution_count": 8,
          "metadata": {},
          "output_type": "execute_result"
        }
      ],
      "source": [
        "training_args = TrainingArguments(\n",
        "    output_dir=\"./results\",\n",
        "    learning_rate=2e-5,\n",
        "    eval_strategy=\"epoch\",\n",
        "    per_device_train_batch_size=32,\n",
        "    per_device_eval_batch_size=32,\n",
        "    num_train_epochs=1,\n",
        "    weight_decay=0.01,\n",
        "    save_steps=100,\n",
        "    save_total_limit=2,\n",
        "    dataloader_num_workers=4,\n",
        "    logging_steps=1000,\n",
        ")\n",
        "\n",
        "trainer = Trainer(\n",
        "    model=model,\n",
        "    args=training_args,\n",
        "    train_dataset=train_tokenized_data,\n",
        "    eval_dataset=test_tokenized_data,\n",
        "    tokenizer=tokenizer,\n",
        "    data_collator=default_data_collator,\n",
        ")\n",
        "\n",
        "trainer.train(resume_from_checkpoint=True)"
      ]
    },
    {
      "cell_type": "markdown",
      "id": "a65c7286",
      "metadata": {
        "id": "a65c7286"
      },
      "source": [
        "## Saving the fine-tuned models locally"
      ]
    },
    {
      "cell_type": "code",
      "execution_count": null,
      "id": "7f7f5b82-dc37-45eb-b8ca-a14c333b5342",
      "metadata": {
        "id": "7f7f5b82-dc37-45eb-b8ca-a14c333b5342",
        "outputId": "8eaa1afb-edbe-41aa-a64f-44c348dc3619"
      },
      "outputs": [
        {
          "data": {
            "text/plain": [
              "('finetuned-roberta/tokenizer_config.json',\n",
              " 'finetuned-roberta/special_tokens_map.json',\n",
              " 'finetuned-roberta/vocab.json',\n",
              " 'finetuned-roberta/merges.txt',\n",
              " 'finetuned-roberta/added_tokens.json',\n",
              " 'finetuned-roberta/tokenizer.json')"
            ]
          },
          "execution_count": 9,
          "metadata": {},
          "output_type": "execute_result"
        }
      ],
      "source": [
        "trainer.model.save_pretrained(\"finetuned-roberta\")\n",
        "tokenizer.save_pretrained(\"finetuned-roberta\")"
      ]
    },
    {
      "cell_type": "code",
      "execution_count": null,
      "id": "e0c29a15",
      "metadata": {
        "id": "e0c29a15"
      },
      "outputs": [],
      "source": [
        "# load the fine tuned model\n",
        "model_path=\"./finetuned-roberta-base-squad2\"\n",
        "tokenizer = AutoTokenizer.from_pretrained(model_path)\n",
        "model = AutoModelForQuestionAnswering.from_pretrained(model_path).to(\"cuda\")"
      ]
    },
    {
      "cell_type": "markdown",
      "source": [
        "# Evaluating our finetuned model using SQuAD metrics from huggingface\n",
        "Our dataset matches the format of SQuAD dataset and so we can officially use the squad metrics to calcualte the f1 and exact_match scores from huggingface"
      ],
      "metadata": {
        "id": "7OlRW0V4nwgh"
      },
      "id": "7OlRW0V4nwgh"
    },
    {
      "cell_type": "code",
      "execution_count": null,
      "id": "3ac11333",
      "metadata": {
        "id": "3ac11333"
      },
      "outputs": [],
      "source": [
        "def postprocess_qa_predictions(examples, features, raw_predictions, n_best_size: int = 20, max_answer_length: int = 50):\n",
        "    all_start_logits, all_end_logits = raw_predictions\n",
        "    example_id_to_index = {k: i for i, k in enumerate(examples[\"id\"])}\n",
        "    features_per_example = collections.defaultdict(list)\n",
        "    for i, feature in enumerate(features):\n",
        "        features_per_example[example_id_to_index[feature[\"example_id\"]]].append(i)\n",
        "\n",
        "    predictions = collections.OrderedDict()\n",
        "\n",
        "    for example_index, example in enumerate(tqdm(examples)):\n",
        "        feature_indices = features_per_example[example_index]\n",
        "        valid_answers = []\n",
        "\n",
        "        context = example[\"context\"]\n",
        "        for feature_index in feature_indices:\n",
        "            start_logits = all_start_logits[feature_index]\n",
        "            end_logits = all_end_logits[feature_index]\n",
        "\n",
        "            offset_mapping = features[feature_index][\"offset_mapping\"]\n",
        "\n",
        "            cls_index = features[feature_index][\"input_ids\"].index(tokenizer.cls_token_id)\n",
        "\n",
        "            start_indexes = np.argsort(start_logits)[-1 : -n_best_size - 1 : -1].tolist()\n",
        "            end_indexes = np.argsort(end_logits)[-1 : -n_best_size - 1 : -1].tolist()\n",
        "            for start_index in start_indexes:\n",
        "                for end_index in end_indexes:\n",
        "                    if (\n",
        "                        start_index >= len(offset_mapping)\n",
        "                        or end_index >= len(offset_mapping)\n",
        "                        or offset_mapping[start_index] is None\n",
        "                        or offset_mapping[end_index] is None\n",
        "                    ):\n",
        "                        continue\n",
        "                    if end_index < start_index or end_index - start_index + 1 > max_answer_length:\n",
        "                        continue\n",
        "\n",
        "                    start_char = offset_mapping[start_index][0]\n",
        "                    end_char = offset_mapping[end_index][1]\n",
        "                    valid_answers.append(\n",
        "                        {\n",
        "                            \"score\": start_logits[start_index] + end_logits[end_index],\n",
        "                            \"text\": context[start_char: end_char]\n",
        "                        }\n",
        "                    )\n",
        "\n",
        "        if len(valid_answers) > 0:\n",
        "            best_answer = sorted(valid_answers, key=lambda x: x[\"score\"], reverse=True)[0]\n",
        "        else:\n",
        "            best_answer = {\"text\": \"\", \"score\": 0.0}\n",
        "\n",
        "        predictions[example[\"id\"]] = best_answer[\"text\"]\n",
        "\n",
        "    return predictions"
      ]
    },
    {
      "cell_type": "code",
      "execution_count": null,
      "id": "2525e4b8",
      "metadata": {
        "id": "2525e4b8",
        "outputId": "4a5f1c0a-9c4f-4201-b9e5-4540939c7b08"
      },
      "outputs": [
        {
          "name": "stderr",
          "output_type": "stream",
          "text": [
            "/tmp/3765103.1.short.q/ipykernel_14644/1551728747.py:1: FutureWarning: load_metric is deprecated and will be removed in the next major version of datasets. Use 'evaluate.load' instead, from the new library 🤗 Evaluate: https://huggingface.co/docs/evaluate\n",
            "  metric = load_metric(\"squad\")\n"
          ]
        }
      ],
      "source": [
        "metric = load_metric(\"squad\")\n",
        "\n",
        "def compute_metrics(pred):\n",
        "    test_tokenized_data.set_format(type=test_tokenized_data.format[\"type\"], columns=list(test_tokenized_data.features.keys()))\n",
        "\n",
        "    final_predictions = postprocess_qa_predictions(dataset['test'], test_tokenized_data, pred.predictions)\n",
        "\n",
        "    formatted_predictions = [{\"id\": k, \"prediction_text\": v} for k, v in final_predictions.items()]\n",
        "    references = [{\"id\": ex[\"id\"], \"answers\": ex[\"answers\"]} for ex in dataset[\"test\"]]\n",
        "\n",
        "    test_tokenized_data.set_format(type=test_tokenized_data.format[\"type\"], columns=['attention_mask', 'end_positions', 'input_ids', 'start_positions'])\n",
        "    metrics = metric.compute(predictions=formatted_predictions, references=references)\n",
        "\n",
        "    return metrics"
      ]
    },
    {
      "cell_type": "code",
      "execution_count": null,
      "id": "5ad771bb",
      "metadata": {
        "id": "5ad771bb",
        "outputId": "5bbdeb98-5228-4752-bede-094cef210932"
      },
      "outputs": [
        {
          "name": "stderr",
          "output_type": "stream",
          "text": [
            "Detected kernel version 3.10.0, which is below the recommended minimum of 5.5.0; this can cause the process to hang. It is recommended to upgrade the kernel to the minimum version or higher.\n"
          ]
        },
        {
          "data": {
            "text/html": [],
            "text/plain": [
              "<IPython.core.display.HTML object>"
            ]
          },
          "metadata": {},
          "output_type": "display_data"
        },
        {
          "name": "stderr",
          "output_type": "stream",
          "text": [
            "100%|██████████| 1244/1244 [03:13<00:00,  6.44it/s]\n"
          ]
        },
        {
          "name": "stdout",
          "output_type": "stream",
          "text": [
            "{'exact_match': 45.257234726688104, 'f1': 56.54071820936928}\n"
          ]
        }
      ],
      "source": [
        "predictions = trainer.predict(test_tokenized_data)\n",
        "results = compute_metrics(predictions)\n",
        "print(results)"
      ]
    },
    {
      "cell_type": "code",
      "execution_count": null,
      "id": "1d762384-dde8-460a-8eed-7fb4a768abb2",
      "metadata": {
        "id": "1d762384-dde8-460a-8eed-7fb4a768abb2",
        "outputId": "2b626efe-bfe6-49d5-8a84-fc8f93993927"
      },
      "outputs": [
        {
          "name": "stdout",
          "output_type": "stream",
          "text": [
            "The name of the contract\n",
            "{'text': ['SCHEDULE TO Software License, Customization and Maintenance Agreement'], 'answer_start': [0]}\n"
          ]
        }
      ],
      "source": [
        "sample_index = 0\n",
        "print(dataset[\"test\"][sample_index][\"question\"])\n",
        "print(dataset[\"test\"][sample_index][\"answers\"])"
      ]
    },
    {
      "cell_type": "code",
      "execution_count": null,
      "id": "dada5e23-cb02-426e-920b-a86527198eaa",
      "metadata": {
        "id": "dada5e23-cb02-426e-920b-a86527198eaa",
        "outputId": "91be5b3c-fba0-4523-fa52-5680664afb4f"
      },
      "outputs": [
        {
          "data": {
            "text/plain": [
              "{'score': 0.48796865344047546,\n",
              " 'start': 12,\n",
              " 'end': 69,\n",
              " 'answer': 'Software License, Customization and Maintenance Agreement'}"
            ]
          },
          "execution_count": 61,
          "metadata": {},
          "output_type": "execute_result"
        }
      ],
      "source": [
        "sample = dataset[\"test\"][sample_index]\n",
        "question_answerer(question=sample[\"question\"], context=sample[\"context\"])"
      ]
    }
  ],
  "metadata": {
    "kernelspec": {
      "display_name": "rag",
      "language": "python",
      "name": "rag"
    },
    "language_info": {
      "codemirror_mode": {
        "name": "ipython",
        "version": 3
      },
      "file_extension": ".py",
      "mimetype": "text/x-python",
      "name": "python",
      "nbconvert_exporter": "python",
      "pygments_lexer": "ipython3",
      "version": "3.12.4"
    },
    "colab": {
      "provenance": []
    }
  },
  "nbformat": 4,
  "nbformat_minor": 5
}